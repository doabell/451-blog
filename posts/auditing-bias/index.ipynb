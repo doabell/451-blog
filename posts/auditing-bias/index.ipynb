{
 "cells": [
  {
   "cell_type": "raw",
   "metadata": {},
   "source": [
    "---\n",
    "title: Auditing Allocative Bias\n",
    "author: Bell\n",
    "date: '2023-03-29'\n",
    "image: \"algorithim_bias.jpg\"\n",
    "description: \"Perform a fairness audit to assess bias with respect demographic characteristics like race or sex.\"\n",
    "---"
   ]
  },
  {
   "cell_type": "markdown",
   "metadata": {},
   "source": [
    "Image credits: [Christina Animashaun/Vox](https://www.vox.com/recode/2020/2/18/21121286/algorithms-bias-discrimination-facial-recognition-transparency)\n",
    "\n",
    "Instructions can be found at [Auditing Allocative Bias](https://middlebury-csci-0451.github.io/CSCI-0451/assignments/blog-posts/blog-post-bias-allocative.html)."
   ]
  },
  {
   "cell_type": "code",
   "execution_count": null,
   "metadata": {},
   "outputs": [],
   "source": [
    "# Data\n",
    "from folktables import ACSDataSource, ACSEmployment, BasicProblem, adult_filter\n",
    "import numpy as np\n",
    "\n",
    "STATE = \"CA\"\n",
    "\n",
    "data_source = ACSDataSource(\n",
    "    survey_year='2018',\n",
    "    horizon='1-Year',\n",
    "    survey='person'\n",
    ")\n",
    "\n",
    "acs_data = data_source.get_data(states=[STATE], download=True)\n",
    "\n",
    "possible_features = [\n",
    "    'AGEP', 'SCHL', 'MAR', 'RELP', 'DIS', 'ESP', 'CIT', 'MIG',\n",
    "    'MIL', 'ANC', 'NATIVITY', 'DEAR', 'DEYE', 'DREM', 'SEX', 'RAC1P', 'ESR'\n",
    "]\n",
    "\n",
    "features_to_use = [\n",
    "    f for f in possible_features\n",
    "    if f not in [\"ESR\", \"RAC1P\"]\n",
    "]\n",
    "\n",
    "EmploymentProblem = BasicProblem(\n",
    "    features=features_to_use,\n",
    "    target='ESR',\n",
    "    target_transform=lambda x: x == 1,\n",
    "    group='RAC1P',\n",
    "    preprocess=lambda x: x,\n",
    "    postprocess=lambda x: np.nan_to_num(x, -1),\n",
    ")\n",
    "\n",
    "features, label, group = EmploymentProblem.df_to_numpy(acs_data)\n"
   ]
  }
 ],
 "metadata": {
  "kernelspec": {
   "display_name": "Python 3.9.16 ('ml-0451')",
   "language": "python",
   "name": "python3"
  },
  "language_info": {
   "name": "python",
   "version": "3.9.16"
  },
  "orig_nbformat": 4,
  "vscode": {
   "interpreter": {
    "hash": "ed3e4449db3433f363a7bf165eb0fa84e449ea3414bef70f77e329be7a065b4e"
   }
  }
 },
 "nbformat": 4,
 "nbformat_minor": 2
}
