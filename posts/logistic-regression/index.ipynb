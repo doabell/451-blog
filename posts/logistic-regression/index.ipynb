{
 "cells": [
  {
   "cell_type": "raw",
   "metadata": {},
   "source": [
    "---\n",
    "title: Optimization for Logistic Regression\n",
    "author: Bell\n",
    "date: '2023-03-01'\n",
    "image: \"logreg.png\"\n",
    "description: \"Implementing simple gradient descent, a momentum method, and stochastic gradient descent; comparing their performance for training logistic regression.\"\n",
    "---"
   ]
  },
  {
   "cell_type": "markdown",
   "metadata": {},
   "source": [
    "Image credit: European Union, [Economies of scope in the aggregation of health-related data](https://joint-research-centre.ec.europa.eu/system/files/2021-09/jrc125767.pdf), under [CC BY 4.0](https://creativecommons.org/licenses/by/4.0/).\n",
    "\n",
    "Python source: [451-blog/logreg.py at main · doabell/451-blog](https://github.com/doabell/451-blog/blob/main/posts/logistic-regression/logreg.py)\n",
    "\n",
    "Instructions can be found at [Optimization for Logistic Regression](https://middlebury-csci-0451.github.io/CSCI-0451/assignments/blog-posts/blog-post-optimization.html)."
   ]
  },
  {
   "cell_type": "markdown",
   "metadata": {},
   "source": [
    "## Demo\n"
   ]
  },
  {
   "cell_type": "code",
   "execution_count": null,
   "metadata": {},
   "outputs": [],
   "source": [
    "# Data\n",
    "from logreg import LogisticRegression  # your source code\n",
    "from sklearn.datasets import make_blobs\n",
    "from matplotlib import pyplot as plt\n",
    "import numpy as np\n",
    "np.seterr(all='ignore')\n",
    "\n",
    "# make the data\n",
    "p_features = 3\n",
    "X, y = make_blobs(\n",
    "    n_samples=200, n_features=p_features - 1, centers=[(-1, -1), (1, 1)]\n",
    ")\n",
    "\n",
    "fig = plt.scatter(X[:, 0], X[:, 1], c=y)\n",
    "xlab = plt.xlabel(\"Feature 1\")\n",
    "ylab = plt.ylabel(\"Feature 2\")\n"
   ]
  },
  {
   "cell_type": "code",
   "execution_count": null,
   "metadata": {},
   "outputs": [],
   "source": [
    "# Algorithm\n",
    "# fit the model\n",
    "\n",
    "LR = LogisticRegression()\n",
    "LR.fit(X, y, alpha=0.1, max_epochs=1000)\n",
    "\n",
    "# inspect the fitted value of w\n",
    "LR.w\n"
   ]
  },
  {
   "cell_type": "code",
   "execution_count": null,
   "metadata": {},
   "outputs": [],
   "source": [
    "# compare\n",
    "LR = LogisticRegression()\n",
    "LR.fit_stochastic(\n",
    "    X, y,\n",
    "    m_epochs=100,\n",
    "    momentum=True,\n",
    "    batch_size=10,\n",
    "    alpha=.05\n",
    ")\n",
    "\n",
    "num_steps = len(LR.loss_history)\n",
    "plt.plot(\n",
    "    np.arange(num_steps) + 1, LR.loss_history,\n",
    "    label=\"stochastic gradient (momentum)\"\n",
    ")\n",
    "\n",
    "LR = LogisticRegression()\n",
    "LR.fit_stochastic(\n",
    "    X, y,\n",
    "    m_epochs=100,\n",
    "    momentum=False,\n",
    "    batch_size=10,\n",
    "    alpha=.1\n",
    ")\n",
    "\n",
    "num_steps = len(LR.loss_history)\n",
    "plt.plot(\n",
    "    np.arange(num_steps) + 1, LR.loss_history,\n",
    "    label=\"stochastic gradient\"\n",
    ")\n",
    "\n",
    "LR = LogisticRegression()\n",
    "LR.fit(X, y, alpha=.05, max_epochs=100)\n",
    "\n",
    "num_steps = len(LR.loss_history)\n",
    "plt.plot(np.arange(num_steps) + 1, LR.loss_history, label=\"gradient\")\n",
    "\n",
    "plt.loglog()\n",
    "\n",
    "legend = plt.legend()\n"
   ]
  }
 ],
 "metadata": {
  "kernelspec": {
   "display_name": "Python 3.9.16 ('ml-0451')",
   "language": "python",
   "name": "python3"
  },
  "language_info": {
   "codemirror_mode": {
    "name": "ipython",
    "version": 3
   },
   "file_extension": ".py",
   "mimetype": "text/x-python",
   "name": "python",
   "nbconvert_exporter": "python",
   "pygments_lexer": "ipython3",
   "version": "3.9.16"
  },
  "orig_nbformat": 4,
  "vscode": {
   "interpreter": {
    "hash": "ed3e4449db3433f363a7bf165eb0fa84e449ea3414bef70f77e329be7a065b4e"
   }
  }
 },
 "nbformat": 4,
 "nbformat_minor": 2
}
