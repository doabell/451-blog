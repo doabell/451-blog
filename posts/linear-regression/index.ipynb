{
 "cells": [
  {
   "cell_type": "raw",
   "metadata": {},
   "source": [
    "---\n",
    "title: Linear Regression\n",
    "author: Bell\n",
    "date: '2023-03-15'\n",
    "image: \"lasso-constraint2.svg\"\n",
    "description: \"Implementing least-squares linear regression, and experimenting with LASSO regularization for overparameterized problems.\"\n",
    "---"
   ]
  },
  {
   "cell_type": "markdown",
   "metadata": {},
   "source": [
    "Python source: [451-blog/linreg.py at main · doabell/451-blog](https://github.com/doabell/451-blog/blob/main/posts/linear-regression/linreg.py)\n",
    "\n",
    "Instructions can be found at [Implementing Linear Regression](https://middlebury-csci-0451.github.io/CSCI-0451/assignments/blog-posts/blog-post-linear-regression.html)."
   ]
  },
  {
   "cell_type": "markdown",
   "metadata": {},
   "source": [
    "## Algorithm Demo"
   ]
  },
  {
   "cell_type": "code",
   "execution_count": null,
   "metadata": {},
   "outputs": [],
   "source": [
    "# Data\n",
    "import numpy as np\n",
    "from matplotlib import pyplot as plt\n",
    "\n",
    "\n",
    "def pad(X):\n",
    "    return np.append(X, np.ones((X.shape[0], 1)), 1)\n",
    "\n",
    "\n",
    "def LR_data(n_train=100, n_val=100, p_features=1, noise=.1, w=None):\n",
    "    if w is None:\n",
    "        w = np.random.rand(p_features + 1) + .2\n",
    "\n",
    "    X_train = np.random.rand(n_train, p_features)\n",
    "    y_train = pad(X_train)@w + noise*np.random.randn(n_train)\n",
    "\n",
    "    X_val = np.random.rand(n_val, p_features)\n",
    "    y_val = pad(X_val)@w + noise*np.random.randn(n_val)\n",
    "\n",
    "    return X_train, y_train, X_val, y_val\n"
   ]
  },
  {
   "cell_type": "code",
   "execution_count": null,
   "metadata": {},
   "outputs": [],
   "source": [
    "# Visualize\n",
    "n_train = 100\n",
    "n_val = 100\n",
    "p_features = 1\n",
    "noise = 0.2\n",
    "\n",
    "# create some data\n",
    "X_train, y_train, X_val, y_val = LR_data(n_train, n_val, p_features, noise)\n",
    "\n",
    "# plot it\n",
    "fig, axarr = plt.subplots(1, 2, sharex=True, sharey=True)\n",
    "axarr[0].scatter(X_train, y_train)\n",
    "axarr[1].scatter(X_val, y_val)\n",
    "labs = axarr[0].set(title=\"Training\", xlabel=\"x\", ylabel=\"y\")\n",
    "labs = axarr[1].set(title=\"Validation\", xlabel=\"x\")\n",
    "plt.tight_layout()\n"
   ]
  },
  {
   "cell_type": "code",
   "execution_count": null,
   "metadata": {},
   "outputs": [],
   "source": [
    "# Train model\n",
    "from linreg import LinearRegression\n",
    "\n",
    "LR = LinearRegression()\n",
    "LR.fit(X_train, y_train)\n",
    "\n",
    "print(f\"Training score = {LR.score(X_train, y_train).round(4)}\")\n",
    "print(f\"Validation score = {LR.score(X_val, y_val).round(4)}\")\n"
   ]
  },
  {
   "cell_type": "code",
   "execution_count": null,
   "metadata": {},
   "outputs": [],
   "source": [
    "# Estimated weight vector\n",
    "LR.w\n"
   ]
  },
  {
   "cell_type": "code",
   "execution_count": null,
   "metadata": {},
   "outputs": [],
   "source": [
    "# Using gradient descent\n",
    "LR2 = LinearRegression()\n",
    "\n",
    "LR2.fit(X_train, y_train, method=\"gradient\", alpha=0.01, max_iter=1e2)\n",
    "LR2.w\n"
   ]
  },
  {
   "cell_type": "code",
   "execution_count": null,
   "metadata": {},
   "outputs": [],
   "source": [
    "# score history\n",
    "plt.plot(LR2.score_history)\n",
    "labels = plt.gca().set(xlabel=\"Iteration\", ylabel=\"Score\")\n"
   ]
  }
 ],
 "metadata": {
  "kernelspec": {
   "display_name": "Python 3.9.16 ('ml-0451')",
   "language": "python",
   "name": "python3"
  },
  "language_info": {
   "codemirror_mode": {
    "name": "ipython",
    "version": 3
   },
   "file_extension": ".py",
   "mimetype": "text/x-python",
   "name": "python",
   "nbconvert_exporter": "python",
   "pygments_lexer": "ipython3",
   "version": "3.9.16"
  },
  "orig_nbformat": 4,
  "vscode": {
   "interpreter": {
    "hash": "ed3e4449db3433f363a7bf165eb0fa84e449ea3414bef70f77e329be7a065b4e"
   }
  }
 },
 "nbformat": 4,
 "nbformat_minor": 2
}
