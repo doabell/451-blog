{
 "cells": [
  {
   "cell_type": "raw",
   "metadata": {},
   "source": [
    "---\n",
    "title: Perceptron\n",
    "author: Bell\n",
    "date: '2023-02-26'\n",
    "image: \"neuron.png\"\n",
    "description: \"Implementing the perceptron algorithm using numerical programming, and demonstrating its use on synthetic data sets.\"\n",
    "format:\n",
    "    html:\n",
    "        html-math-method: katex\n",
    "---"
   ]
  },
  {
   "cell_type": "markdown",
   "metadata": {},
   "source": [
    "Instructions can be found at [Implementing the Perceptron Algorithm](https://middlebury-csci-0451.github.io/CSCI-0451/assignments/blog-posts/blog-post-perceptron.html)."
   ]
  },
  {
   "cell_type": "markdown",
   "metadata": {},
   "source": [
    "## Data"
   ]
  },
  {
   "cell_type": "code",
   "execution_count": null,
   "metadata": {},
   "outputs": [],
   "source": [
    "import numpy as np\n",
    "import pandas as pd\n",
    "import seaborn as sns\n",
    "from matplotlib import pyplot as plt\n",
    "\n",
    "from sklearn.datasets import make_blobs\n",
    "\n",
    "np.random.seed(12345)\n",
    "\n",
    "n = 100\n",
    "p_features = 3\n",
    "\n",
    "X, y = make_blobs(\n",
    "    n_samples=100,\n",
    "    n_features=p_features - 1,\n",
    "    centers=[(-1.7, -1.7), (1.7, 1.7)]\n",
    ")\n",
    "\n",
    "fig = plt.scatter(X[:, 0], X[:, 1], c=y)\n",
    "xlab = plt.xlabel(\"Feature 1\")\n",
    "ylab = plt.ylabel(\"Feature 2\")\n"
   ]
  },
  {
   "cell_type": "markdown",
   "metadata": {},
   "source": [
    "## Algorithm"
   ]
  },
  {
   "cell_type": "code",
   "execution_count": null,
   "metadata": {},
   "outputs": [],
   "source": [
    "%%script false --no-raise-error\n",
    "\n",
    "from perceptron import Perceptron\n",
    "\n",
    "p = Perceptron()\n",
    "p.fit(X, y, max_steps = 1000)"
   ]
  },
  {
   "cell_type": "code",
   "execution_count": null,
   "metadata": {},
   "outputs": [],
   "source": [
    "%%script false --no-raise-error\n",
    "\n",
    "# score history\n",
    "fig = plt.plot(p.history)\n",
    "xlab = plt.xlabel(\"Iteration\")\n",
    "ylab = plt.ylabel(\"Accuracy\")"
   ]
  }
 ],
 "metadata": {
  "kernelspec": {
   "display_name": "Python 3.9.16 ('ml-0451')",
   "language": "python",
   "name": "python3"
  },
  "language_info": {
   "codemirror_mode": {
    "name": "ipython",
    "version": 3
   },
   "file_extension": ".py",
   "mimetype": "text/x-python",
   "name": "python",
   "nbconvert_exporter": "python",
   "pygments_lexer": "ipython3",
   "version": "3.9.16"
  },
  "orig_nbformat": 4,
  "vscode": {
   "interpreter": {
    "hash": "ed3e4449db3433f363a7bf165eb0fa84e449ea3414bef70f77e329be7a065b4e"
   }
  }
 },
 "nbformat": 4,
 "nbformat_minor": 2
}
