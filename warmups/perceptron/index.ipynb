{
 "cells": [
  {
   "cell_type": "raw",
   "metadata": {},
   "source": [
    "---\n",
    "title: Perceptron\n",
    "author: Bell\n",
    "date: '2023-02-15'\n",
    "description: \"Warmup exercise.\"\n",
    "format:\n",
    "    html:\n",
    "        html-math-method: katex\n",
    "---"
   ]
  },
  {
   "cell_type": "markdown",
   "metadata": {},
   "source": [
    "## Perceptron\n",
    "[Problem](https://middlebury-csci-0451.github.io/CSCI-0451/warmup-exercises.html#sec-perceptron)\n",
    "\n",
    "### Part 1"
   ]
  },
  {
   "cell_type": "code",
   "execution_count": 2,
   "metadata": {},
   "outputs": [],
   "source": [
    "import numpy as np\n",
    "from matplotlib import pyplot as plt"
   ]
  },
  {
   "cell_type": "code",
   "execution_count": 4,
   "metadata": {},
   "outputs": [
    {
     "data": {
      "image/png": "[encoded data removed]",
      "text/plain": [
       "<Figure size 640x480 with 1 Axes>"
      ]
     },
     "metadata": {},
     "output_type": "display_data"
    }
   ],
   "source": [
    "w = np.array([1, -1/2])\n",
    "# https://stackoverflow.com/questions/5954603/\n",
    "b = 1/2\n",
    "\n",
    "x = np.linspace(-2, 2, 100)\n",
    "y = 2 * x - 1\n",
    "\n",
    "plt.plot(x, y)\n",
    "plt.axis('scaled')\n",
    "plt.grid()\n",
    "plt.show()\n",
    "# \\bracket{\\vw, \\vx} = b"
   ]
  },
  {
   "cell_type": "markdown",
   "metadata": {},
   "source": [
    "### Part 2"
   ]
  },
  {
   "cell_type": "code",
   "execution_count": 5,
   "metadata": {},
   "outputs": [
    {
     "name": "stdout",
     "output_type": "stream",
     "text": [
      "0\n",
      "1\n",
      "1\n"
     ]
    }
   ],
   "source": [
    "def perceptron_classify(w, b, x):\n",
    "    return int(np.dot(w, x) >= b)\n",
    "\n",
    "x1 = np.array([0, 0])\n",
    "x2 = np.array([0, -2])\n",
    "x3 = np.array([2, 3])\n",
    "print(perceptron_classify(w, b, x1))\n",
    "print(perceptron_classify(w, b, x2))\n",
    "print(perceptron_classify(w, b, x3))"
   ]
  },
  {
   "cell_type": "markdown",
   "metadata": {},
   "source": [
    "### Part 3\n",
    "\n",
    "Let $\\tilde{\\mathbf{w}} = (\\mathbf{w}, w')$.\n",
    "\n",
    "Then $\\langle \\tilde{\\mathbf{w}}, \\tilde{\\mathbf{x}} \\rangle = \\langle \\mathbf{w}, \\mathbf{x} \\rangle + w' = 0$\n",
    "\n",
    "Substituting $(1)$ from Part 1: $b + w' = 0$\n",
    "\n",
    "Therefore, $w' = -b, \\tilde{\\mathbf{w}} = (\\mathbf{w}, -b)$."
   ]
  }
 ],
 "metadata": {
  "kernelspec": {
   "display_name": "Python 3.9.16 ('ml-0451')",
   "language": "python",
   "name": "python3"
  },
  "language_info": {
   "codemirror_mode": {
    "name": "ipython",
    "version": 3
   },
   "file_extension": ".py",
   "mimetype": "text/x-python",
   "name": "python",
   "nbconvert_exporter": "python",
   "pygments_lexer": "ipython3",
   "version": "3.9.16"
  },
  "orig_nbformat": 4,
  "vscode": {
   "interpreter": {
    "hash": "ed3e4449db3433f363a7bf165eb0fa84e449ea3414bef70f77e329be7a065b4e"
   }
  }
 },
 "nbformat": 4,
 "nbformat_minor": 2
}
